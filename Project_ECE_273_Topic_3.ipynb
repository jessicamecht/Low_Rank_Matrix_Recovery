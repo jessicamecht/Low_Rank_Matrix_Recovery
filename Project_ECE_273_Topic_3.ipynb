{
 "cells": [
  {
   "cell_type": "markdown",
   "metadata": {},
   "source": [
    "# Project ECE 273 Topic 3"
   ]
  },
  {
   "cell_type": "markdown",
   "metadata": {},
   "source": [
    "## Polynomial Neural Networks and Low Rank Matrix Factorization "
   ]
  },
  {
   "cell_type": "markdown",
   "metadata": {},
   "source": [
    "##### Goal of the project"
   ]
  },
  {
   "cell_type": "markdown",
   "metadata": {},
   "source": [
    "The goal of this project is to understand recovery of a low rank matrix from a specifically constrained set of data measurements. In [1] a neural network with a specific underlying data model is shown to be recovered using a non convex iterative algorithm. In [2], a convex relaxation to solve a similar convex problem which can recover a specific rank r matrix with high probability using constrained minimization is shown. This project helps us understand how it is possible to solve a highly non convex problem using an iterative algorithm, which recovers a matrix with high probability given that the data has a specific format. We also learn to understand how to to relax a non convex problem into a convex one which is solvable with computational solvers. Additionally, we learn to understand the preconditions on the data which need to be fulfilled for a system like this to perform well."
   ]
  },
  {
   "cell_type": "markdown",
   "metadata": {},
   "source": [
    "##### Background  and  motivation:  You  should  cite  relevant  references,  explain  why  the  problem  is  important, and its applications. You should also cite the datasets being used."
   ]
  },
  {
   "cell_type": "markdown",
   "metadata": {},
   "source": [
    "Many problems in our world can be represented as a suitable matrix. For example, we can represent a low degree statistical model for a random process or a low order controller for a plant as a low rank matrix [11,12]. However, in real life, we never obtain 100% of information and thus always have a limited amount of data. But this data is often meaningful, if we are able to extract relevant patterns from it. Estimating or completing low rank matrices from a given dataset is thus helpful for us to understand data, even though we can only obtain a limited amount of it [1, 3]. \n",
    "\n",
    "We can make use of this problem for several applications. One is signal reconstruction [2], where the authors show that they can reconstruct a matrix from a bounded number of noisy measurements per degree of freedom using different versions of minimization problems [2]. A recovering method like this can also be used for face recognition [5,7], Quantum state tomography [6] and distance measurements [2]. Matrix sensing and completion has also been used for control and system identification [9] as well as collaborative filtering [10]. Soltani and Hegde found a way to provably recover learning parameters using low rank matrix estimation for learning a neural network of a specific form which learns a specific data distribution [1]. Because of the broad applicability of low-rank matrices this topic is important to a broad community of data scientists and mathematicians, as well as companies (among others used for the famous million dollar Netflix challenge). \n",
    "\n",
    "Using heuristic non convex iterative algorithms like in [1] to solve low rank estimation problems can be helpful with respect to runtime. Even though convex solutions offer an optimal solution, it can require exponential running time [3]. Thus, an iterative algorithm which recovers a low rank matrix can be helpful in real life, where we have limited computing time and power. "
   ]
  },
  {
   "cell_type": "markdown",
   "metadata": {},
   "source": [
    "##### Results:  Include  all  figures;  you  can  also  use  tables  to  present  your  results,  especially  for  comparing multiple algorithms"
   ]
  },
  {
   "cell_type": "markdown",
   "metadata": {},
   "source": [
    "##### Read the references and explain why solving the problem (1) is equal to training the corresponded network? "
   ]
  },
  {
   "cell_type": "markdown",
   "metadata": {},
   "source": [
    "We see in 1 that we minimize empirical risk, which is the average loss of misprediction between the true label and the preduction by the mapping $$y_i - x_i^TLx_i$$ with the activation function $$\\phi(z) = z^2$$ and the constraint that $$ rank(L) \\leq r$$\n",
    "\n",
    "Solving problem 1 is equal to the corresponding network because L* mapping between the data ($x_i$) and the label ($y_i$) and represents the weights of the hidden and output layer of the respective network. Because of the assumptions of the relationship of $x$ and $y$ with $L_*$ we can minimize equation (1) under the assumption that $rank(L) \\leq r$."
   ]
  },
  {
   "cell_type": "markdown",
   "metadata": {},
   "source": [
    "##### Why is it not a convex optimization problem? "
   ]
  },
  {
   "cell_type": "markdown",
   "metadata": {},
   "source": [
    "It is not a convex optimization problem because the empirical risk contains fourth-powers for the entries of the weights $w_j$ and squares of $a_j$ (which can be obtained by eigendecomposition of $L$) [1]."
   ]
  },
  {
   "cell_type": "markdown",
   "metadata": {},
   "source": [
    "##### Why is problem (3) a suitable convex relaxation for problem (2)?"
   ]
  },
  {
   "cell_type": "markdown",
   "metadata": {},
   "source": [
    "[3] shows that minimizing the nuclear norm heuristic under the restricted isometry property leads to the minimum solution. So if we minimize the nuclear norm of $L$ we get a minimum solution of the problem. If we now analyse the constraint that the the largest singular value of the estimation of $A^*(e)$, which is the estimation of $L$ weighted with the misprediction error for each data sample, is smaller than some constant $\\lambda$. It is a suitable convex relaxation because it recovers $L$ with a limited error and thus we can reconstruct $y$ in (2) with the $L$ obtained in (3)."
   ]
  },
  {
   "cell_type": "markdown",
   "metadata": {},
   "source": [
    "##### Method/Techniques"
   ]
  },
  {
   "cell_type": "markdown",
   "metadata": {},
   "source": [
    "The methods in this project are two fold. On the one hand, we have a non convex learning algorithm which provides an understandable recovery of a matrix. There are different versions available with different computational efficiencies [1]. We use the less computational efficient method, but whose interpretation is intuitive. This method estimates a matrix L by iterating through the average of the dot product of the data features in batches and multiplying it with the difference of the prediction with the real label (error term). This error lerm uses the current L_t matrix to preduct from the data samples and compares it with the actual ground truth label. This kind of resembles a loss function which is regularly used in learning neural networks. The new 'weights' matrix L_t is then updated by the projection onto the subspace of all rank r matrices of the difference of L_t-1 with this average and a weighted bias term, which is novel in the work provided by [1]. The bias term is the error of the current prediction minus 0.5 the average ground truth value. Instead of using an error threshold this paper uses a fixed iteration constant. \n",
    "\n",
    "On the other hand, we have a convex relaxation of the problem which can be expressed in different ways [2]. The broad idea of the convex relaxation is that we want to minimize the nuclear norm of our variable matrix L under the conditions that the operator norm (largest singular value) of the adjoint operator of the difference between the prediction and the estimation is smaller or equal to a constant lambda. How to choose the constant lambda has been explored in [2] I.4 where, lambda has a special structure which is proved to perform well for a given convex minimization problem. "
   ]
  },
  {
   "cell_type": "code",
   "execution_count": 1,
   "metadata": {},
   "outputs": [],
   "source": [
    "import numpy as np\n",
    "import cvxpy as cp\n",
    "from sklearn.decomposition import PCA\n",
    "from numpy import linalg as la\n",
    "import matplotlib.pyplot as plt\n",
    "import pandas as pd\n",
    "from sklearn.metrics import mean_squared_error\n",
    "from sklearn.utils.validation import check_symmetric\n",
    "from sklearn.datasets import make_spd_matrix\n",
    "from tensorflow.keras.datasets import mnist\n",
    "import matlab.engine\n",
    "import io\n",
    "from IPython.core.magic import register_cell_magic\n",
    "from sklearn.decomposition import PCA"
   ]
  },
  {
   "cell_type": "code",
   "execution_count": 2,
   "metadata": {},
   "outputs": [],
   "source": [
    "def test_symmetry(square):\n",
    "    check_symmetric(square, tol=1e-10, raise_exception=False)\n",
    "    return True\n",
    "\n",
    "def relative_error(L_star_norm, L_hat_norm):\n",
    "    rel_err = np.abs((L_star_norm - L_hat_norm)/L_star_norm)\n",
    "    return rel_err\n",
    "\n",
    "def create_L_star(p, r, cov=100, mean = 100):\n",
    "    U = np.random.normal(0,cov,(p, r))\n",
    "    L_star = np.dot(U, U.T)\n",
    "    assert(L_star.shape == (p,p))\n",
    "    assert(test_symmetry(L_star))\n",
    "    return np.array(L_star)\n",
    "\n",
    "def create_y(x, L_star):\n",
    "    x = np.array(x)\n",
    "    y = list(map(lambda x_i: np.array(np.dot(np.dot(x_i.T,L_star), x_i)), x))\n",
    "    return np.array(y)\n",
    "\n",
    "def check(matrix):\n",
    "    assert(not (np.isnan(matrix).any() or np.isinf(matrix).any()))\n",
    "    assert(test_symmetry(matrix))\n",
    "    "
   ]
  },
  {
   "cell_type": "markdown",
   "metadata": {},
   "source": [
    "##### Generate  a  random  data  set from  a  normal  distribution  (you  can  choose  the  mean  and  the covariance),  and  one  ground  truth  network  (Based  on  the  given  architecture  in  [1])  which  generates the output yi corresponding to the input xi. "
   ]
  },
  {
   "cell_type": "code",
   "execution_count": 3,
   "metadata": {},
   "outputs": [
    {
     "name": "stdout",
     "output_type": "stream",
     "text": [
      "Dataset of size: (168000, 10)\n",
      "L_star is a matrix with rank 5\n"
     ]
    }
   ],
   "source": [
    "m = 8000\n",
    "p = 10\n",
    "r = 5\n",
    "K = 20\n",
    "\n",
    "mean = np.zeros(p)\n",
    "cov = np.identity(p)\n",
    "x = np.array(np.random.multivariate_normal(mean,cov,(K+1)*m))\n",
    "print('Dataset of size:', x.shape)\n",
    "x = x.reshape(x.shape[0], x.shape[1], 1)\n",
    "\n",
    "L_star = create_L_star(p,r)\n",
    "assert(test_symmetry(L_star))\n",
    "print('L_star is a matrix with rank', la.matrix_rank(L_star, hermitian = True))\n",
    "y = create_y(x, L_star)"
   ]
  },
  {
   "cell_type": "markdown",
   "metadata": {},
   "source": [
    "##### Implement Algorithm 1 in [1] and test it on the data set you have generated."
   ]
  },
  {
   "cell_type": "code",
   "execution_count": 4,
   "metadata": {},
   "outputs": [],
   "source": [
    "def g(x,y,L,const, bias_term):\n",
    "    sum_arr = np.zeros(L.shape)\n",
    "    xTLx = np.array(list(map(lambda x_i: np.dot(np.dot(x_i.T, L), x_i), x)))\n",
    "    assert(x[0].shape[0] == x[0].T.shape[1])\n",
    "    xxT = np.array(list(map(lambda x_i: np.dot(x_i,x_i.T), x)))\n",
    "    xTLxy = xTLx - y\n",
    "    check(xxT[0])\n",
    "    inner = xTLxy * xxT\n",
    "    check(inner[0])\n",
    "    inner = np.array(list(map(lambda x_i_inner: x_i_inner, inner)))\n",
    "    result = const * np.sum(inner, axis=0)\n",
    "    return result\n",
    "\n",
    "def A(L,x):\n",
    "    assert(L.shape[1] == L.shape[0] and x[0].shape[0] == L.shape[0])\n",
    "    x = np.array(x)\n",
    "    A_Lt = list(map(lambda x_i: np.dot(np.dot(x_i.T,L), x_i), x ))\n",
    "    A_Lt = np.array(A_Lt)\n",
    "    assert(A_Lt.shape[0] == x.shape[0])\n",
    "    A_Lt = np.array(A_Lt)\n",
    "    A_Lt = A_Lt.reshape(A_Lt.shape[0], 1)\n",
    "    return A_Lt\n",
    "\n",
    "def bias(x, L_t, const, y_bar):\n",
    "    A_Lt = A(L_t,x)\n",
    "    one = np.ones((A_Lt.shape[0], 1))\n",
    "    assert(one.T.shape[0] == A_Lt.shape[1])\n",
    "    a_term = (const * (np.sum(A_Lt)))\n",
    "    a_term = a_term.flatten()[0]\n",
    "    bias_term = (a_term - 0.5 * y_bar) * np.identity(L_t.shape[0])\n",
    "    check(bias_term)\n",
    "    return bias_term"
   ]
  },
  {
   "cell_type": "code",
   "execution_count": 5,
   "metadata": {},
   "outputs": [],
   "source": [
    "def EP_ROM(y, K, x, r, p):\n",
    "    L_t = np.zeros((p,p))\n",
    "    all_batches = x.shape[0]\n",
    "    m = int(all_batches/(K+1))\n",
    "    for t in range(0,K+1):\n",
    "        const = (1/(2*m))\n",
    "        start = t*m\n",
    "        end = (t+1)*m\n",
    "        x_t = x[start:end,:]\n",
    "        y_t = y[start:end]\n",
    "        y_bar = np.mean(y_t)\n",
    "        \n",
    "        bias_term = bias(x_t, L_t, const, y_bar)\n",
    "        g_Lt = g(x_t,y_t,L_t, const, bias_term)\n",
    "        \n",
    "        check(L_t)\n",
    "        check(g_Lt)\n",
    "        check(bias_term)\n",
    "        \n",
    "        inner_projection = L_t - (g_Lt - bias_term)\n",
    "        check(inner_projection)\n",
    "        \n",
    "        U, s, VT = la.svd(inner_projection)\n",
    "        s = np.concatenate((s[0:r], np.zeros(p-r)))\n",
    "        Sigma = np.diag(s)\n",
    "        L_t = U.dot(Sigma.dot(VT))\n",
    "        \n",
    "        check(L_t)\n",
    "    return L_t"
   ]
  },
  {
   "cell_type": "code",
   "execution_count": 6,
   "metadata": {},
   "outputs": [
    {
     "name": "stdout",
     "output_type": "stream",
     "text": [
      "(168000, 1, 1)\n",
      "L* matrix with rank 5\n",
      "m: 8000 p: 10 K: 20 r: 5 err: 4.0421220346427464e-16 L* recovered? True\n"
     ]
    }
   ],
   "source": [
    "print(y.shape)\n",
    "L_hat = EP_ROM(y, K, x, r, p)  \n",
    "L_hat_norm = la.norm(L_hat, ord = 2)\n",
    "L_star_norm = la.norm(L_star, ord = 2)\n",
    "assert(test_symmetry(L_star))\n",
    "print('L* matrix with rank', la.matrix_rank(L_star, hermitian = True))\n",
    "rel_err = relative_error(L_star_norm, L_hat_norm)\n",
    "print('m:', m, 'p:', p,'K:', K, 'r:', r, 'err:', rel_err, 'L* recovered?', rel_err < 0.05)\n",
    "assert(test_symmetry(L_hat))"
   ]
  },
  {
   "cell_type": "markdown",
   "metadata": {},
   "source": [
    "##### Try data sets with different sizes and different initialization. Can you recover the ground truth L* (or equivalently, the network)? "
   ]
  },
  {
   "cell_type": "code",
   "execution_count": 94,
   "metadata": {},
   "outputs": [
    {
     "name": "stdout",
     "output_type": "stream",
     "text": [
      "Dataset of size: (1000, 10)\n",
      "L* matrix with rank 5\n",
      "m: 1000 p: 10 K: 1 r: 5 err: 0.01649500303863963 L* recovered? True\n"
     ]
    }
   ],
   "source": [
    "m = 1000\n",
    "p = 10\n",
    "r = 5\n",
    "K = 1\n",
    "mean = np.zeros(p)\n",
    "cov = np.identity(p)\n",
    "x = np.array(np.random.multivariate_normal(mean,cov,K*m))\n",
    "print('Dataset of size:', x.shape)\n",
    "x = x.reshape(x.shape[0], x.shape[1], 1)\n",
    "L_star = create_L_star(p,r)\n",
    "assert(test_symmetry(L_star))\n",
    "print('L* matrix with rank', la.matrix_rank(L_star, hermitian = True))\n",
    "y = create_y(x, L_star)\n",
    "\n",
    "\n",
    "L_hat = EP_ROM(y, K, x, r, p)  \n",
    "L_hat_norm = la.norm(L_hat, ord = 2)\n",
    "L_star_norm = la.norm(L_star, ord = 2)\n",
    "assert(test_symmetry(L_star))\n",
    "rel_err = relative_error(L_star_norm, L_hat_norm)\n",
    "print('m:', m, 'p:', p,'K:', K, 'r:', r, 'err:', rel_err, 'L* recovered?', rel_err < 0.05)\n",
    "assert(test_symmetry(L_hat))"
   ]
  },
  {
   "cell_type": "code",
   "execution_count": 99,
   "metadata": {},
   "outputs": [
    {
     "name": "stdout",
     "output_type": "stream",
     "text": [
      "Dataset of size: (240000, 10)\n",
      "L* matrix with rank 5\n"
     ]
    }
   ],
   "source": [
    "m = 8000\n",
    "p = 10\n",
    "r = 5\n",
    "K = 30\n",
    "mean = np.ones(p)\n",
    "cov = make_spd_matrix(p)\n",
    "x = np.array(np.random.multivariate_normal(mean=mean,cov=cov,size=K*m))\n",
    "print('Dataset of size:', x.shape)\n",
    "x = x.reshape(x.shape[0], x.shape[1], 1)\n",
    "L_star = create_L_star(p,r)\n",
    "assert(test_symmetry(L_star))\n",
    "print('L* matrix with rank', la.matrix_rank(L_star, hermitian = True))\n",
    "y = create_y(x, L_star)"
   ]
  },
  {
   "cell_type": "code",
   "execution_count": 100,
   "metadata": {},
   "outputs": [
    {
     "name": "stdout",
     "output_type": "stream",
     "text": [
      "m: 8000 p: 10 K: 30 r: 5 err: 3.592271437386146e+74 L* recovered? False\n"
     ]
    }
   ],
   "source": [
    "L_hat = EP_ROM(y, K, x, r, p)  \n",
    "L_hat_norm = la.norm(L_hat, ord = 2)\n",
    "L_star_norm = la.norm(L_star, ord = 2)\n",
    "assert(test_symmetry(L_star))\n",
    "rel_err = relative_error(L_star_norm, L_hat_norm)\n",
    "print('m:', m, 'p:', p,'K:', K, 'r:', r, 'err:', rel_err, 'L* recovered?', rel_err < 0.05)\n",
    "assert(test_symmetry(L_hat))"
   ]
  },
  {
   "cell_type": "code",
   "execution_count": 109,
   "metadata": {},
   "outputs": [
    {
     "name": "stdout",
     "output_type": "stream",
     "text": [
      "Dataset of size: (1000, 10)\n",
      "L* matrix with rank 5\n",
      "m: 1000 p: 10 K: 1 r: 5 err: 0.04169654859446736 L* recovered? True\n",
      "Dataset of size: (3000, 10)\n",
      "L* matrix with rank 5\n",
      "m: 1000 p: 10 K: 3 r: 5 err: 0.002031869026572138 L* recovered? True\n",
      "Dataset of size: (5000, 10)\n",
      "L* matrix with rank 5\n",
      "m: 1000 p: 10 K: 5 r: 5 err: 0.00017188791760909823 L* recovered? True\n",
      "Dataset of size: (10000, 10)\n",
      "L* matrix with rank 5\n",
      "m: 1000 p: 10 K: 10 r: 5 err: 3.2698608558398875e-07 L* recovered? True\n",
      "Dataset of size: (20000, 10)\n",
      "L* matrix with rank 5\n",
      "m: 1000 p: 10 K: 20 r: 5 err: 2.4031001928117284e-12 L* recovered? True\n",
      "Dataset of size: (30000, 10)\n",
      "L* matrix with rank 5\n",
      "m: 1000 p: 10 K: 30 r: 5 err: 4.514650012725903e-16 L* recovered? True\n",
      "Dataset of size: (40000, 10)\n",
      "L* matrix with rank 5\n",
      "m: 1000 p: 10 K: 40 r: 5 err: 1.1135881253521228e-16 L* recovered? True\n"
     ]
    }
   ],
   "source": [
    "m = 1000\n",
    "p = 10\n",
    "r = 5\n",
    "K = [1, 3, 5, 10, 20, 30, 40]\n",
    "mean = np.zeros(p)\n",
    "cov = np.identity(p)\n",
    "err = []\n",
    "for k in K:\n",
    "    x = np.array(np.random.multivariate_normal(mean,cov,k*m))\n",
    "    print('Dataset of size:', x.shape)\n",
    "    x = x.reshape(x.shape[0], x.shape[1], 1)\n",
    "    L_star = create_L_star(p,r)\n",
    "    assert(test_symmetry(L_star))\n",
    "    print('L* matrix with rank', la.matrix_rank(L_star, hermitian = True))\n",
    "    y = create_y(x, L_star)\n",
    "\n",
    "    \n",
    "    L_hat = EP_ROM(y, k, x, r, p)  \n",
    "    L_hat_norm = la.norm(L_hat, ord = 2)\n",
    "    L_star_norm = la.norm(L_star, ord = 2)\n",
    "    assert(test_symmetry(L_star))\n",
    "    rel_err = relative_error(L_star_norm, L_hat_norm)\n",
    "    err.append(rel_err)\n",
    "    print('m:', m, 'p:', p,'K:', k, 'r:', r, 'err:', rel_err, 'L* recovered?', rel_err < 0.05)\n",
    "    assert(test_symmetry(L_hat))"
   ]
  },
  {
   "cell_type": "code",
   "execution_count": 110,
   "metadata": {},
   "outputs": [
    {
     "name": "stdout",
     "output_type": "stream",
     "text": [
      "Relative error with respect to number of iterations for EP_ROM.\n"
     ]
    },
    {
     "data": {
      "text/plain": [
       "Text(0, 0.5, 'Relative Error')"
      ]
     },
     "execution_count": 110,
     "metadata": {},
     "output_type": "execute_result"
    },
    {
     "data": {
      "image/png": "[encoded data removed]",
      "text/plain": [
       "<Figure size 432x288 with 1 Axes>"
      ]
     },
     "metadata": {
      "needs_background": "light"
     },
     "output_type": "display_data"
    }
   ],
   "source": [
    "x = K\n",
    "y = err\n",
    "print('Relative error with respect to number of iterations for EP_ROM.')\n",
    "plt.plot(x,y, linestyle = '-.', marker='o',markersize=5)\n",
    "\n",
    "plt.xlabel('Number of Iterations')\n",
    "plt.ylabel('Relative Error')"
   ]
  },
  {
   "cell_type": "markdown",
   "metadata": {},
   "source": [
    "##### Plot the probability of success by varying the values of m, p and r,  as  well  as  different  initializations  (you  can  refer  to  [1]  for  some  representative  plots).  \n",
    "\n",
    "I use 20 Monte Carlo trials to establish the empirical probability\n",
    "of success. Success is when the relative error between L_hat (the estimate of L_star) and the ground truth L_star (measured in terms of spectral norm) is less than 0.05.\n",
    "In this trial there is no additive noise. This setup is similar to [1] but with less monte carlo trials, because my CPU unfortunately couldn't handle more in the limited amount of time I had for this project."
   ]
  },
  {
   "cell_type": "code",
   "execution_count": 5,
   "metadata": {},
   "outputs": [],
   "source": [
    "all_m = [1000, 3000, 6000]\n",
    "all_p = [100, 50, 20]\n",
    "all_r = [10, 5]\n",
    "all_var_L = [0.1, 1, 10]\n",
    "K = 20\n",
    "\n",
    "def getSuccessRates(all_m, all_p, all_r, convex, K=20):\n",
    "    success_rate_df = pd.DataFrame(columns=['m','p','r', 'var_L', 'success_rate'])\n",
    "    for p in all_p:\n",
    "        mean = np.zeros(p)\n",
    "        cov = np.identity(p)\n",
    "        for r in all_r:\n",
    "            for var_L in all_var_L:\n",
    "                for m in all_m:\n",
    "                    success = 0\n",
    "                    failure = 0\n",
    "                    for i in range(1,20):\n",
    "                        x = np.array(np.random.multivariate_normal(mean,cov,K*m))\n",
    "                        if not convex:\n",
    "                            x = x.reshape(x.shape[0], x.shape[1], 1)\n",
    "                        L_star = create_L_star(p,r, var_L)\n",
    "                        L_star_norm = la.norm(L_star, ord = 2)\n",
    "                        y = create_y(x, L_star)\n",
    "                        if convex:\n",
    "                            L_hat = solveConvexProblem(1, x, y, p)\n",
    "                        else:\n",
    "                            L_hat = EP_ROM(y, K, x, r, p)\n",
    "                        L_hat_norm = la.norm(L_hat, ord = 2)\n",
    "                        rel_err = relative_error(L_star_norm, L_hat_norm)\n",
    "                        if rel_err < 0.05:\n",
    "                            success =+ 1\n",
    "                        else:\n",
    "                            failure =+ 1\n",
    "                    print(\"success rate for p:\",p, 'r:', r,'m:',m, 'var_L:', var_L, success / (success + failure))\n",
    "                    new_row = {'m': m, 'p': p, 'r': r, 'var_L': var_L, 'success_rate': success / (success + failure)}\n",
    "                    success_rate_df = success_rate_df.append(new_row, ignore_index=True)\n",
    "    return success_rate_df\n",
    "    "
   ]
  },
  {
   "cell_type": "code",
   "execution_count": 20,
   "metadata": {},
   "outputs": [
    {
     "name": "stdout",
     "output_type": "stream",
     "text": [
      "success rate for p: 100 r: 10 m: 1000 0.0\n",
      "success rate for p: 100 r: 10 m: 3000 0.0\n",
      "success rate for p: 100 r: 10 m: 6000 1.0\n",
      "success rate for p: 100 r: 10 m: 1000 0.0\n",
      "success rate for p: 100 r: 10 m: 3000 0.0\n",
      "success rate for p: 100 r: 10 m: 6000 1.0\n",
      "success rate for p: 100 r: 10 m: 1000 0.0\n",
      "success rate for p: 100 r: 10 m: 3000 0.0\n",
      "success rate for p: 100 r: 10 m: 6000 1.0\n",
      "success rate for p: 100 r: 5 m: 1000 0.0\n",
      "success rate for p: 100 r: 5 m: 3000 1.0\n",
      "success rate for p: 100 r: 5 m: 6000 1.0\n",
      "success rate for p: 100 r: 5 m: 1000 0.0\n",
      "success rate for p: 100 r: 5 m: 3000 1.0\n",
      "success rate for p: 100 r: 5 m: 6000 1.0\n",
      "success rate for p: 100 r: 5 m: 1000 0.0\n",
      "success rate for p: 100 r: 5 m: 3000 1.0\n",
      "success rate for p: 100 r: 5 m: 6000 1.0\n",
      "success rate for p: 50 r: 10 m: 1000 0.0\n",
      "success rate for p: 50 r: 10 m: 3000 1.0\n",
      "success rate for p: 50 r: 10 m: 6000 1.0\n",
      "success rate for p: 50 r: 10 m: 1000 0.0\n",
      "success rate for p: 50 r: 10 m: 3000 1.0\n",
      "success rate for p: 50 r: 10 m: 6000 1.0\n",
      "success rate for p: 50 r: 10 m: 1000 0.0\n",
      "success rate for p: 50 r: 10 m: 3000 1.0\n",
      "success rate for p: 50 r: 10 m: 6000 1.0\n",
      "success rate for p: 50 r: 5 m: 1000 0.5\n",
      "success rate for p: 50 r: 5 m: 3000 1.0\n",
      "success rate for p: 50 r: 5 m: 6000 1.0\n",
      "success rate for p: 50 r: 5 m: 1000 0.5\n",
      "success rate for p: 50 r: 5 m: 3000 1.0\n",
      "success rate for p: 50 r: 5 m: 6000 1.0\n",
      "success rate for p: 50 r: 5 m: 1000 0.5\n",
      "success rate for p: 50 r: 5 m: 3000 1.0\n",
      "success rate for p: 50 r: 5 m: 6000 1.0\n",
      "success rate for p: 20 r: 10 m: 1000 1.0\n",
      "success rate for p: 20 r: 10 m: 3000 1.0\n",
      "success rate for p: 20 r: 10 m: 6000 1.0\n",
      "success rate for p: 20 r: 10 m: 1000 1.0\n",
      "success rate for p: 20 r: 10 m: 3000 1.0\n",
      "success rate for p: 20 r: 10 m: 6000 1.0\n",
      "success rate for p: 20 r: 10 m: 1000 1.0\n",
      "success rate for p: 20 r: 10 m: 3000 1.0\n",
      "success rate for p: 20 r: 10 m: 6000 1.0\n",
      "success rate for p: 20 r: 5 m: 1000 1.0\n",
      "success rate for p: 20 r: 5 m: 3000 1.0\n",
      "success rate for p: 20 r: 5 m: 6000 1.0\n",
      "success rate for p: 20 r: 5 m: 1000 1.0\n",
      "success rate for p: 20 r: 5 m: 3000 1.0\n",
      "success rate for p: 20 r: 5 m: 6000 1.0\n",
      "success rate for p: 20 r: 5 m: 1000 1.0\n",
      "success rate for p: 20 r: 5 m: 3000 1.0\n",
      "success rate for p: 20 r: 5 m: 6000 1.0\n"
     ]
    },
    {
     "data": {
      "text/plain": [
       "0     100.0\n",
       "1     100.0\n",
       "2     100.0\n",
       "3     100.0\n",
       "4     100.0\n",
       "5     100.0\n",
       "6     100.0\n",
       "7     100.0\n",
       "8     100.0\n",
       "9     100.0\n",
       "10    100.0\n",
       "11    100.0\n",
       "12    100.0\n",
       "13    100.0\n",
       "14    100.0\n",
       "15    100.0\n",
       "16    100.0\n",
       "17    100.0\n",
       "18     50.0\n",
       "19     50.0\n",
       "20     50.0\n",
       "21     50.0\n",
       "22     50.0\n",
       "23     50.0\n",
       "24     50.0\n",
       "25     50.0\n",
       "26     50.0\n",
       "27     50.0\n",
       "28     50.0\n",
       "29     50.0\n",
       "30     50.0\n",
       "31     50.0\n",
       "32     50.0\n",
       "33     50.0\n",
       "34     50.0\n",
       "35     50.0\n",
       "36     20.0\n",
       "37     20.0\n",
       "38     20.0\n",
       "39     20.0\n",
       "40     20.0\n",
       "41     20.0\n",
       "42     20.0\n",
       "43     20.0\n",
       "44     20.0\n",
       "45     20.0\n",
       "46     20.0\n",
       "47     20.0\n",
       "48     20.0\n",
       "49     20.0\n",
       "50     20.0\n",
       "51     20.0\n",
       "52     20.0\n",
       "53     20.0\n",
       "Name: p, dtype: float64"
      ]
     },
     "execution_count": 20,
     "metadata": {},
     "output_type": "execute_result"
    }
   ],
   "source": [
    "success_rate_df = getSuccessRates(all_m, all_p, all_r, False, K)\n",
    "success_rate_df['p']"
   ]
  },
  {
   "cell_type": "code",
   "execution_count": 97,
   "metadata": {},
   "outputs": [
    {
     "name": "stdout",
     "output_type": "stream",
     "text": [
      "Influence of the parameter p dimension of training data, L* and approximation of L* with respect to batch size m.\n"
     ]
    },
    {
     "data": {
      "text/plain": [
       "Text(0, 0.5, 'Probability of success')"
      ]
     },
     "execution_count": 97,
     "metadata": {},
     "output_type": "execute_result"
    },
    {
     "data": {
      "image/png": "[encoded data removed]",
      "text/plain": [
       "<Figure size 432x288 with 1 Axes>"
      ]
     },
     "metadata": {
      "needs_background": "light"
     },
     "output_type": "display_data"
    }
   ],
   "source": [
    "plt.figure()\n",
    "\n",
    "p_plot = success_rate_df[success_rate_df['p'] == 100]\n",
    "p_plot = p_plot[p_plot['r'] == 5]\n",
    "p_plot = p_plot[p_plot['var_L'] == 1]\n",
    "\n",
    "x = p_plot['m']\n",
    "y = p_plot['success_rate']\n",
    "plt.plot(x,y)\n",
    "\n",
    "p_plot = success_rate_df[success_rate_df['p'] == 50]\n",
    "p_plot = p_plot[p_plot['r'] == 5]\n",
    "p_plot = p_plot[p_plot['var_L'] == 1]\n",
    "\n",
    "x = p_plot['m']\n",
    "y = p_plot['success_rate']\n",
    "plt.plot(x,y)\n",
    "\n",
    "p_plot = success_rate_df[success_rate_df['p'] == 20]\n",
    "p_plot = p_plot[p_plot['r'] == 5]\n",
    "p_plot = p_plot[p_plot['var_L'] == 1]\n",
    "\n",
    "x = p_plot['m']\n",
    "y = p_plot['success_rate']\n",
    "plt.plot(x,y)\n",
    "print('Influence of the parameter p dimension of training data, L* and approximation of L* with respect to batch size m.')\n",
    "\n",
    "plt.legend([\"p = 100 r = 5, var_L = 1\", \"p = 50 r = 5, var_L = 1\", \"p = 20 r = 5, var_L = 1\"])\n",
    "plt.xlabel('m')\n",
    "plt.ylabel('Probability of success')\n",
    "\n"
   ]
  },
  {
   "cell_type": "code",
   "execution_count": 89,
   "metadata": {},
   "outputs": [
    {
     "name": "stdout",
     "output_type": "stream",
     "text": [
      "Influence of the rank of L* and approximation of L* with respect to batch size m.\n"
     ]
    },
    {
     "data": {
      "text/plain": [
       "Text(0, 0.5, 'Probability of success')"
      ]
     },
     "execution_count": 89,
     "metadata": {},
     "output_type": "execute_result"
    },
    {
     "data": {
      "image/png": "[encoded data removed]",
      "text/plain": [
       "<Figure size 432x288 with 1 Axes>"
      ]
     },
     "metadata": {
      "needs_background": "light"
     },
     "output_type": "display_data"
    }
   ],
   "source": [
    "plt.figure()\n",
    "\n",
    "p_plot = success_rate_df[success_rate_df['p'] == 100]\n",
    "p_plot = p_plot[p_plot['r'] == 5]\n",
    "p_plot = p_plot[p_plot['var_L'] == 1]\n",
    "\n",
    "x = p_plot['m']\n",
    "y = p_plot['success_rate']\n",
    "plt.plot(x,y)\n",
    "\n",
    "p_plot = success_rate_df[success_rate_df['p'] == 100]\n",
    "p_plot = p_plot[p_plot['r'] == 10]\n",
    "p_plot = p_plot[p_plot['var_L'] == 1]\n",
    "\n",
    "x = p_plot['m']\n",
    "y = p_plot['success_rate']\n",
    "plt.plot(x,y)\n",
    "\n",
    "print('Influence of the rank of L* and approximation of L* with respect to batch size m.')\n",
    "plt.legend([\"p = 100 r = 5, var_L = 1\", \"p = 100 r = 10, var_L = 1\", \"p = 20 r = 5, var_L = 1\"])\n",
    "plt.xlabel('m')\n",
    "plt.ylabel('Probability of success')"
   ]
  },
  {
   "cell_type": "code",
   "execution_count": 98,
   "metadata": {},
   "outputs": [
    {
     "name": "stdout",
     "output_type": "stream",
     "text": [
      "Influence of the initialisation variance on the results with respect to batch size m.\n"
     ]
    },
    {
     "data": {
      "text/plain": [
       "Text(0, 0.5, 'Probability of success')"
      ]
     },
     "execution_count": 98,
     "metadata": {},
     "output_type": "execute_result"
    },
    {
     "data": {
      "image/png": "[encoded data removed]",
      "text/plain": [
       "<Figure size 432x288 with 1 Axes>"
      ]
     },
     "metadata": {
      "needs_background": "light"
     },
     "output_type": "display_data"
    }
   ],
   "source": [
    "plt.figure()\n",
    "\n",
    "p_plot = success_rate_df[success_rate_df['p'] == 100]\n",
    "p_plot = p_plot[p_plot['r'] == 10]\n",
    "p_plot = p_plot[p_plot['var_L'] == 0.1]\n",
    "\n",
    "x = p_plot['m']\n",
    "y = p_plot['success_rate']\n",
    "plt.plot(x,y, linestyle = ':', marker='^',markersize=10)\n",
    "\n",
    "p_plot = success_rate_df[success_rate_df['p'] == 100]\n",
    "p_plot = p_plot[p_plot['r'] == 10]\n",
    "p_plot = p_plot[p_plot['var_L'] == 1]\n",
    "\n",
    "x = p_plot['m']\n",
    "y = p_plot['success_rate']\n",
    "plt.plot(x,y, linestyle = '--', marker='^',markersize=7)\n",
    "\n",
    "p_plot = success_rate_df[success_rate_df['p'] == 100]\n",
    "p_plot = p_plot[p_plot['r'] == 10]\n",
    "p_plot = p_plot[p_plot['var_L'] == 10]\n",
    "\n",
    "x = p_plot['m']\n",
    "y = p_plot['success_rate']\n",
    "plt.plot(x,y, linestyle = '-.', marker='^',markersize=5)\n",
    "\n",
    "\n",
    "p_plot = success_rate_df[success_rate_df['p'] == 50]\n",
    "p_plot = p_plot[p_plot['r'] == 10]\n",
    "p_plot = p_plot[p_plot['var_L'] == 0.1]\n",
    "\n",
    "x = p_plot['m']\n",
    "y = p_plot['success_rate']\n",
    "plt.plot(x,y, linestyle = ':', marker='x',markersize=10)\n",
    "\n",
    "p_plot = success_rate_df[success_rate_df['p'] == 50]\n",
    "p_plot = p_plot[p_plot['r'] == 10]\n",
    "p_plot = p_plot[p_plot['var_L'] == 1]\n",
    "\n",
    "x = p_plot['m']\n",
    "y = p_plot['success_rate']\n",
    "plt.plot(x,y, linestyle = '--', marker='x',markersize=7)\n",
    "\n",
    "p_plot = success_rate_df[success_rate_df['p'] == 50]\n",
    "p_plot = p_plot[p_plot['r'] == 10]\n",
    "p_plot = p_plot[p_plot['var_L'] == 10]\n",
    "\n",
    "x = p_plot['m']\n",
    "y = p_plot['success_rate']\n",
    "plt.plot(x,y, linestyle = '-.', marker='x',markersize=5)\n",
    "\n",
    "p_plot = success_rate_df[success_rate_df['p'] == 20]\n",
    "p_plot = p_plot[p_plot['r'] == 10]\n",
    "p_plot = p_plot[p_plot['var_L'] == 0.1]\n",
    "\n",
    "x = p_plot['m']\n",
    "y = p_plot['success_rate']\n",
    "plt.plot(x,y, linestyle = ':', marker='o',markersize=10)\n",
    "\n",
    "p_plot = success_rate_df[success_rate_df['p'] == 20]\n",
    "p_plot = p_plot[p_plot['r'] == 10]\n",
    "p_plot = p_plot[p_plot['var_L'] == 1]\n",
    "\n",
    "x = p_plot['m']\n",
    "y = p_plot['success_rate']\n",
    "plt.plot(x,y, linestyle = '--', marker='o',markersize=7)\n",
    "\n",
    "p_plot = success_rate_df[success_rate_df['p'] == 20]\n",
    "p_plot = p_plot[p_plot['r'] == 10]\n",
    "p_plot = p_plot[p_plot['var_L'] == 10]\n",
    "\n",
    "x = p_plot['m']\n",
    "y = p_plot['success_rate']\n",
    "print('Influence of the initialisation variance on the results with respect to batch size m.')\n",
    "plt.plot(x,y, linestyle = '-.', marker='o',markersize=5)\n",
    "\n",
    "\n",
    "plt.legend([\"p = 100 r = 10, var_L = 0.1\", \"p = 100 r = 10, var_L = 1\", \"p = 100 r = 10, var_L = 10\", \"p = 50 r = 10, var_L = 0.1\", \"p = 50 r = 10, var_L = 1\", \"p = 50 r = 10, var_L = 10\", \"p = 20 r = 10, var_L = 0.1\", \"p = 20 r = 10, var_L = 1\", \"p = 20 r = 10, var_L = 10\"])\n",
    "plt.xlabel('m')\n",
    "plt.ylabel('Probability of success')"
   ]
  },
  {
   "cell_type": "markdown",
   "metadata": {},
   "source": [
    "##### Comment  on your results. "
   ]
  },
  {
   "cell_type": "markdown",
   "metadata": {},
   "source": [
    "As we can see, the algorithm is not able to recover data which is not distributed from a normal distribution with zero mean and identity covariance. This makes sense because the authors in [1] explicitly assumed that their training data is distributed with zero mean and identity covariance. With respect to the parameters, we can see that the parameter p influences the results and probability of success. We can see that the probability of success increases with lower $p$ for smaller batch size $m$. For larger batch sizes, the parameter $p$ does not influence the probability of success so much. We can see that the initialization variance of the ground truth matrix $L_*$ does not influence the results at all. We can see that the parameter $r$ influences the outcome of the experiment, a lower r produces better results."
   ]
  },
  {
   "cell_type": "markdown",
   "metadata": {},
   "source": [
    "##### Add noise to the measurements and try different noise powers. "
   ]
  },
  {
   "cell_type": "code",
   "execution_count": 107,
   "metadata": {},
   "outputs": [
    {
     "name": "stdout",
     "output_type": "stream",
     "text": [
      "m 3000 noise level: 0.0001 m: 3000 p: 100 var: 1 err: 2.8777891831608596e-06 Successful recovery? True\n",
      "m 3000 noise level: 0.1 m: 3000 p: 100 var: 1 err: 0.027195618417835243 Successful recovery? True\n",
      "m 3000 noise level: 1 m: 3000 p: 100 var: 1 err: 8.976027773945851e+20 Successful recovery? False\n",
      "m 3000 noise level: 10 m: 3000 p: 100 var: 1 err: 4.461560245450308e+94 Successful recovery? False\n",
      "m 3000 noise level: 100 m: 3000 p: 100 var: 1 err: 3.290100206090703e+176 Successful recovery? False\n",
      "m 8000 noise level: 0.0001 m: 8000 p: 100 var: 1 err: 2.201194356318444e-06 Successful recovery? True\n",
      "m 8000 noise level: 0.1 m: 8000 p: 100 var: 1 err: 0.01920486541477712 Successful recovery? True\n",
      "m 8000 noise level: 1 m: 8000 p: 100 var: 1 err: 3.606879607918283e+19 Successful recovery? False\n",
      "m 8000 noise level: 10 m: 8000 p: 100 var: 1 err: 6.6883444965052e+93 Successful recovery? False\n",
      "m 8000 noise level: 100 m: 8000 p: 100 var: 1 err: 4.999101461688042e+175 Successful recovery? False\n"
     ]
    }
   ],
   "source": [
    "all_m = [3000, 8000]\n",
    "p = 100\n",
    "r = 5\n",
    "var = 1\n",
    "K = 20\n",
    "noise_levels = [0.0001, 0.1, 1, 10, 100]\n",
    "mean = np.zeros(p)\n",
    "cov = np.identity(p)\n",
    "for m in all_m:\n",
    "    x = np.array(np.random.multivariate_normal(mean,cov,K*m))\n",
    "    x = x.reshape(x.shape[0], x.shape[1], 1)\n",
    "    L_star = create_L_star(p,r)\n",
    "    test_symmetry(L_star)\n",
    "    y = create_y(x, L_star)\n",
    "    for noise_level in noise_levels:\n",
    "        noise = np.random.normal(0, noise_level,(K*m, p))\n",
    "        noise = noise.reshape(noise.shape[0], noise.shape[1], 1)\n",
    "        x_noise = x + noise\n",
    "        L_hat = EP_ROM(y, K, x_noise, r, p)  \n",
    "        L_hat_norm = la.norm(L_hat, ord = 2)\n",
    "        L_star_norm = la.norm(L_star, ord = 2)\n",
    "        rel_err = relative_error(L_star_norm, L_hat_norm)\n",
    "        print('m', m, 'noise level:', noise_level, 'm:', m,'p:',p, 'var:',var,'err:', rel_err, 'Successful recovery?', rel_err < 0.05)"
   ]
  },
  {
   "cell_type": "markdown",
   "metadata": {},
   "source": [
    "##### Report where the algorithm fails and succeeds."
   ]
  },
  {
   "cell_type": "markdown",
   "metadata": {},
   "source": [
    "We can see that the noise levels influence the error immensely. If the noise variance is below 1, we are still able to learn the network. However, if the noise levels are above 1, the error explodes and we are not able to learn the network anymore. This is independent of the batch size m.\n",
    "\n",
    "All in all, the algorithm succeeds if we have a low noise level (noise constructed from a normal distribution with mean 0 and variance <1) and we have enough training data. The algorithm performs better if we have a lower rank matrix to reconstruct. The algorithm is robust to different initialisations of $L_*$, but is limited to training data distributed from a normal distribution with mean 0 and identity covariance. It is also limited because the labels $y$ have to correspond to a ground truth of $x^TL_*x$. The algorithm itself is able to learn the ground truth pretty quickly, as the error reduces quickly with increasing number of iterations."
   ]
  },
  {
   "cell_type": "markdown",
   "metadata": {},
   "source": [
    "##### Formulate  the  problem  of  training  neural  network  (or  equivalently,  finding L*)  as  a  convex  problem, based on [2] and [3]. \n"
   ]
  },
  {
   "cell_type": "code",
   "execution_count": 16,
   "metadata": {},
   "outputs": [],
   "source": [
    "def A_star_cvx(x,e):\n",
    "    assert(x.shape[0] == e.shape[0])\n",
    "    adjoint_value = np.zeros((x.shape[1], x.shape[1]))\n",
    "    for i in range(0, x.shape[0]):\n",
    "        x_i = x[i]\n",
    "        e_i = e[i]\n",
    "        x_i = np.array(x_i)\n",
    "        x_i = x_i.reshape(x_i.shape[0], 1)\n",
    "        xxt = np.dot(x_i, x_i.T)\n",
    "        exxt = cp.multiply(e_i, xxt)\n",
    "        adjoint_value = np.sum([adjoint_value, exxt], axis=0)\n",
    "    return adjoint_value\n",
    "\n",
    "def A_star_cvx_faster(x,e):\n",
    "    assert(x.shape[0] == e.shape[0])\n",
    "    x = x.reshape(x.shape[0], x.shape[1], 1)\n",
    "    e = e.reshape(e.shape[0], 1, 1)\n",
    "    xxt = np.array(list(map( lambda x_i: np.dot(x_i, x_i.T), x)))\n",
    "    exxt = e * xxt\n",
    "    exxtmap = list(map(lambda x: x[0][0][0][0], exxt))\n",
    "    print(exxt[0][0].shape)\n",
    "    adjoint_value = np.sum(exxt, axis=0)\n",
    "    print(x.shape, e.shape, xxt.shape, exxt.shape,adjoint_value.shape,adjoint_value[0,0][0][0].shape)\n",
    "    return adjoint_value\n",
    "\n",
    "def A_cvx_faster(L,x):\n",
    "    x = x.reshape(x.shape[0], x.shape[1], 1)\n",
    "    x = np.array(x)\n",
    "    A_Lt = []\n",
    "    assert(L.shape == (x.shape[1], x.shape[1]) and L[0,0].shape == ())\n",
    "    A_Lt = list(map(lambda x_i: cp.quad_form(x_i, L), x))\n",
    "    return np.array(A_Lt)\n",
    "\n",
    "\n",
    "def A_cvx(L,x):\n",
    "    x = x.reshape(x.shape[0], x.shape[1], 1)\n",
    "    A_Lt = []\n",
    "    assert(L.shape == (x.shape[1], x.shape[1]) and L[0,0].shape == ())\n",
    "    for i in range(x.shape[0]):\n",
    "        x_i = x[i]\n",
    "        A_Lt.append(cp.quad_form(x_i, L))\n",
    "    return np.array(A_Lt)"
   ]
  },
  {
   "cell_type": "markdown",
   "metadata": {},
   "source": [
    "##### Use the data set you generated in the last part and solve this convex problem with CVX/CVXPY library. You may need to tune λ by trying different values and cross validating against the training  dataset  (Read  [2]  for  suitable  ways  to  choose λ).  "
   ]
  },
  {
   "cell_type": "code",
   "execution_count": 7,
   "metadata": {},
   "outputs": [],
   "source": [
    "def solveConvexProblem(offset, x, y, p,var=1):\n",
    "    C_0 = 4*np.sqrt((1+np.sqrt(2)-1)* np.log(12)) + offset\n",
    "    lmbd = lambda variance : C_0 * np.sqrt(p*variance)\n",
    "    \n",
    "    L = cp.Variable((p,p))\n",
    "    objective = cp.Minimize(cp.norm(L, \"nuc\"))\n",
    "    A_L = A_cvx_faster(L,x)\n",
    "    assert(y.shape[0] ==  A_L.shape[0])\n",
    "    A_L = A_L.reshape(A_L.shape[0], 1)\n",
    "    error = y - A_L\n",
    "    error = error.reshape(error.shape[0], )\n",
    "    assert(error.shape == (x.shape[0], ))\n",
    "    a_st_x_e = A_star_cvx(x, error)\n",
    "    constraints = [cp.norm(a_st_x_e, 2) <= lmbd(np.sqrt(var))]\n",
    "    prob = cp.Problem(objective, constraints)\n",
    "\n",
    "    result = prob.solve()\n",
    "    L_hat = L.value\n",
    "    return L_hat"
   ]
  },
  {
   "cell_type": "code",
   "execution_count": 79,
   "metadata": {},
   "outputs": [
    {
     "name": "stdout",
     "output_type": "stream",
     "text": [
      "data created\n",
      "error: 1.3739564991953064e-08 Error < 0.05? True\n"
     ]
    }
   ],
   "source": [
    "m = 1000\n",
    "p = 10\n",
    "r = 5\n",
    "K = 1\n",
    "var = 1\n",
    "offset = 1\n",
    "\n",
    "mean = np.zeros(p)\n",
    "cov = np.identity(p)\n",
    "x = np.array(np.random.multivariate_normal(mean,cov,K*m))\n",
    "x = x.reshape(x.shape[0], x.shape[1], 1)\n",
    "L_star = create_L_star(p,r)\n",
    "y = np.array(create_y(x, L_star))\n",
    "y = y.reshape(y.shape[0], 1, 1)\n",
    "y = y.reshape(y.shape[0], 1)\n",
    "print('data created')\n",
    "L_hat = solveConvexProblem(offset, x, y, p)\n",
    "L_hat_norm = la.norm(L_hat, ord = 2)\n",
    "L_star_norm = la.norm(L_star, ord = 2)\n",
    "rel_err = np.abs((L_star_norm - L_hat_norm)/L_star_norm)\n",
    "print('error:', rel_err, 'Error < 0.05?', rel_err < 0.05)"
   ]
  },
  {
   "cell_type": "markdown",
   "metadata": {},
   "source": [
    "##### Compare  your  result  with  previous  solutions and plots, including the need for initialization. "
   ]
  },
  {
   "cell_type": "code",
   "execution_count": 11,
   "metadata": {},
   "outputs": [
    {
     "name": "stdout",
     "output_type": "stream",
     "text": [
      "Dataset of size: (4000, 10)\n",
      "L* matrix with rank 5\n",
      "m: 4000 p: 10 K: 20 r: 5 err: 1.843186168141248e-05 L* recovered? True\n"
     ]
    },
    {
     "name": "stderr",
     "output_type": "stream",
     "text": [
      "/Users/jessicaechterhoff/opt/anaconda3/lib/python3.7/site-packages/sklearn/utils/validation.py:855: UserWarning: Array is not symmetric, and will be converted to symmetric by average with its transpose.\n",
      "  warnings.warn(\"Array is not symmetric, and will be converted \"\n"
     ]
    }
   ],
   "source": [
    "m = 4000\n",
    "p = 10\n",
    "r = 5\n",
    "offset = 1\n",
    "mean = np.ones(p)\n",
    "cov = make_spd_matrix(p)\n",
    "x = np.array(np.random.multivariate_normal(mean=mean,cov=cov,size=m))\n",
    "print('Dataset of size:', x.shape)\n",
    "x = x.reshape(x.shape[0], x.shape[1], 1)\n",
    "L_star = create_L_star(p,r)\n",
    "assert(test_symmetry(L_star))\n",
    "print('L* matrix with rank', la.matrix_rank(L_star, hermitian = True))\n",
    "y = create_y(x, L_star)\n",
    "y = y.reshape(y.shape[0], 1, 1)\n",
    "y = y.reshape(y.shape[0], 1)\n",
    "L_hat = solveConvexProblem(offset, x, y, p)\n",
    "L_hat_norm = la.norm(L_hat, ord = 2)\n",
    "L_star_norm = la.norm(L_star, ord = 2)\n",
    "assert(test_symmetry(L_star))\n",
    "rel_err = relative_error(L_star_norm, L_hat_norm)\n",
    "print('m:', m, 'p:', p,'K:', K, 'r:', r, 'err:', rel_err, 'L* recovered?', rel_err < 0.05)\n",
    "assert(test_symmetry(L_hat))"
   ]
  },
  {
   "cell_type": "code",
   "execution_count": 9,
   "metadata": {},
   "outputs": [
    {
     "name": "stdout",
     "output_type": "stream",
     "text": [
      "m 1000 p 5 var_L 0.1 error: 0.007447434250887569 Error < 0.05? True\n",
      "m 3000 p 5 var_L 0.1 error: 0.0023337839994942455 Error < 0.05? True\n",
      "m 6000 p 5 var_L 0.1 error: 8.841693223573169e-05 Error < 0.05? True\n",
      "m 1000 p 5 var_L 1 error: 0.00042943835396207594 Error < 0.05? True\n",
      "m 3000 p 5 var_L 1 error: 4.3861267353239115e-05 Error < 0.05? True\n",
      "m 6000 p 5 var_L 1 error: 1.5045667634360655e-06 Error < 0.05? True\n",
      "m 1000 p 5 var_L 10 error: 1.9908313370672016e-06 Error < 0.05? True\n",
      "m 3000 p 5 var_L 10 error: 2.8068750466235463e-06 Error < 0.05? True\n",
      "m 6000 p 5 var_L 10 error: 3.493725932591566e-07 Error < 0.05? True\n",
      "m 1000 p 10 var_L 0.1 error: 0.07945231453243637 Error < 0.05? False\n",
      "m 3000 p 10 var_L 0.1 error: 0.008664034168580925 Error < 0.05? True\n",
      "m 6000 p 10 var_L 0.1 error: 0.00021719302465860504 Error < 0.05? True\n",
      "m 1000 p 10 var_L 1 error: 0.0006700222768279488 Error < 0.05? True\n",
      "m 3000 p 10 var_L 1 error: 0.00031721936885699604 Error < 0.05? True\n",
      "m 6000 p 10 var_L 1 error: 1.4818509643640984e-05 Error < 0.05? True\n",
      "m 1000 p 10 var_L 10 error: 1.7499250461496116e-06 Error < 0.05? True\n",
      "m 3000 p 10 var_L 10 error: 4.201352854759047e-08 Error < 0.05? True\n",
      "m 6000 p 10 var_L 10 error: 1.1608777760391886e-06 Error < 0.05? True\n",
      "m 1000 p 30 var_L 0.1 error: 0.026963779500006432 Error < 0.05? True\n",
      "m 3000 p 30 var_L 0.1 error: 0.00012241080335003666 Error < 0.05? True\n",
      "m 6000 p 30 var_L 0.1 error: 3.0930469906253927e-05 Error < 0.05? True\n",
      "m 1000 p 30 var_L 1 error: 0.0016926590898121534 Error < 0.05? True\n",
      "m 3000 p 30 var_L 1 error: 0.0004246671308049943 Error < 0.05? True\n",
      "m 6000 p 30 var_L 1 error: 0.00012305407102676308 Error < 0.05? True\n",
      "m 1000 p 30 var_L 10 error: 2.7334740554980226e-05 Error < 0.05? True\n",
      "m 3000 p 30 var_L 10 error: 4.247580022901244e-06 Error < 0.05? True\n",
      "m 6000 p 30 var_L 10 error: 1.4938855414554277e-07 Error < 0.05? True\n"
     ]
    }
   ],
   "source": [
    "offset = 1\n",
    "all_m = [1000, 3000, 6000]\n",
    "all_p = [5, 10, 30]\n",
    "all_var_L = [0.1, 1, 10]\n",
    "\n",
    "success_rate_df = pd.DataFrame(columns=['m','p', 'var_L', 'rel_err'])\n",
    "\n",
    "for p in all_p:\n",
    "    mean = np.zeros(p)\n",
    "    cov = np.identity(p)\n",
    "    for var_L in all_var_L:\n",
    "        for m in all_m:\n",
    "            x = np.array(np.random.multivariate_normal(mean,cov,m))\n",
    "            x = x.reshape(x.shape[0], x.shape[1], 1)\n",
    "            L_star = np.array(create_L_star(p,r,var_L))\n",
    "            y = np.array(create_y(x, L_star))\n",
    "            y = y.reshape(y.shape[0], 1, 1)\n",
    "            y = y.reshape(y.shape[0], 1)\n",
    "            L_hat = solveConvexProblem(offset, x, y, p)\n",
    "            L_hat_norm = la.norm(L_hat, ord = 2)\n",
    "            L_star_norm = la.norm(L_star, ord = 2)\n",
    "            rel_err = np.abs((L_star_norm - L_hat_norm)/L_star_norm)\n",
    "            print('m', m, 'p', p, 'var_L', var_L, 'error:', rel_err, 'Error < 0.05?', rel_err < 0.05)\n",
    "            new_row = {'m': m, 'p': p, 'var_L': var_L, 'error': rel_err}\n",
    "            success_rate_df = success_rate_df.append(new_row, ignore_index=True)\n",
    "                \n",
    "            "
   ]
  },
  {
   "cell_type": "code",
   "execution_count": 10,
   "metadata": {},
   "outputs": [
    {
     "name": "stdout",
     "output_type": "stream",
     "text": [
      "         m     p  var_L  rel_err         error\n",
      "0   1000.0   5.0    0.1      NaN  7.447434e-03\n",
      "1   3000.0   5.0    0.1      NaN  2.333784e-03\n",
      "2   6000.0   5.0    0.1      NaN  8.841693e-05\n",
      "3   1000.0   5.0    1.0      NaN  4.294384e-04\n",
      "4   3000.0   5.0    1.0      NaN  4.386127e-05\n",
      "5   6000.0   5.0    1.0      NaN  1.504567e-06\n",
      "6   1000.0   5.0   10.0      NaN  1.990831e-06\n",
      "7   3000.0   5.0   10.0      NaN  2.806875e-06\n",
      "8   6000.0   5.0   10.0      NaN  3.493726e-07\n",
      "9   1000.0  10.0    0.1      NaN  7.945231e-02\n",
      "10  3000.0  10.0    0.1      NaN  8.664034e-03\n",
      "11  6000.0  10.0    0.1      NaN  2.171930e-04\n",
      "12  1000.0  10.0    1.0      NaN  6.700223e-04\n",
      "13  3000.0  10.0    1.0      NaN  3.172194e-04\n",
      "14  6000.0  10.0    1.0      NaN  1.481851e-05\n",
      "15  1000.0  10.0   10.0      NaN  1.749925e-06\n",
      "16  3000.0  10.0   10.0      NaN  4.201353e-08\n",
      "17  6000.0  10.0   10.0      NaN  1.160878e-06\n",
      "18  1000.0  30.0    0.1      NaN  2.696378e-02\n",
      "19  3000.0  30.0    0.1      NaN  1.224108e-04\n",
      "20  6000.0  30.0    0.1      NaN  3.093047e-05\n",
      "21  1000.0  30.0    1.0      NaN  1.692659e-03\n",
      "22  3000.0  30.0    1.0      NaN  4.246671e-04\n",
      "23  6000.0  30.0    1.0      NaN  1.230541e-04\n",
      "24  1000.0  30.0   10.0      NaN  2.733474e-05\n",
      "25  3000.0  30.0   10.0      NaN  4.247580e-06\n",
      "26  6000.0  30.0   10.0      NaN  1.493886e-07\n"
     ]
    }
   ],
   "source": [
    "print(success_rate_df)"
   ]
  },
  {
   "cell_type": "code",
   "execution_count": 14,
   "metadata": {},
   "outputs": [
    {
     "name": "stdout",
     "output_type": "stream",
     "text": [
      "Relative error with respect to number of data samples for the convex solution.\n"
     ]
    },
    {
     "data": {
      "text/plain": [
       "Text(0, 0.5, 'Relative Error')"
      ]
     },
     "execution_count": 14,
     "metadata": {},
     "output_type": "execute_result"
    },
    {
     "data": {
      "image/png": "[encoded data removed]",
      "text/plain": [
       "<Figure size 432x288 with 1 Axes>"
      ]
     },
     "metadata": {
      "needs_background": "light"
     },
     "output_type": "display_data"
    }
   ],
   "source": [
    "data = success_rate_df[success_rate_df['p'] == 5]\n",
    "data = data[data['var_L'] == 1]\n",
    "y = data['error']\n",
    "x = data['m']\n",
    "print('Relative error with respect to number of data samples for the convex solution.')\n",
    "plt.plot(x,y, linestyle = '-.', marker='o',markersize=5)\n",
    "\n",
    "plt.xlabel('Number of Data Samples')\n",
    "plt.ylabel('Relative Error')"
   ]
  },
  {
   "cell_type": "code",
   "execution_count": 16,
   "metadata": {},
   "outputs": [
    {
     "name": "stdout",
     "output_type": "stream",
     "text": [
      "Relative error with respect to the initialization variance of L* for the convex solution.\n"
     ]
    },
    {
     "data": {
      "text/plain": [
       "Text(0, 0.5, 'Relative Error')"
      ]
     },
     "execution_count": 16,
     "metadata": {},
     "output_type": "execute_result"
    },
    {
     "data": {
      "image/png": "[encoded data removed]",
      "text/plain": [
       "<Figure size 432x288 with 1 Axes>"
      ]
     },
     "metadata": {
      "needs_background": "light"
     },
     "output_type": "display_data"
    }
   ],
   "source": [
    "data = success_rate_df[success_rate_df['p'] == 5]\n",
    "data = data[data['m'] == 6000]\n",
    "y = data['error']\n",
    "x = data['var_L']\n",
    "print('Relative error with respect to the initialization variance of L* for the convex solution.')\n",
    "plt.plot(x,y, linestyle = '-.', marker='o',markersize=5)\n",
    "\n",
    "plt.xlabel('Initialization Variance of L*')\n",
    "plt.ylabel('Relative Error')"
   ]
  },
  {
   "cell_type": "code",
   "execution_count": 17,
   "metadata": {},
   "outputs": [
    {
     "name": "stdout",
     "output_type": "stream",
     "text": [
      "Relative error with respect to parameter p for the convex solution.\n"
     ]
    },
    {
     "data": {
      "text/plain": [
       "Text(0, 0.5, 'Relative Error')"
      ]
     },
     "execution_count": 17,
     "metadata": {},
     "output_type": "execute_result"
    },
    {
     "data": {
      "image/png": "[encoded data removed]",
      "text/plain": [
       "<Figure size 432x288 with 1 Axes>"
      ]
     },
     "metadata": {
      "needs_background": "light"
     },
     "output_type": "display_data"
    }
   ],
   "source": [
    "data = success_rate_df[success_rate_df['var_L'] == 1]\n",
    "data = data[data['m'] == 6000]\n",
    "y = data['error']\n",
    "x = data['p']\n",
    "print('Relative error with respect to parameter p for the convex solution.')\n",
    "plt.plot(x,y, linestyle = '-.', marker='o',markersize=5)\n",
    "\n",
    "plt.xlabel('p')\n",
    "plt.ylabel('Relative Error')"
   ]
  },
  {
   "cell_type": "markdown",
   "metadata": {},
   "source": [
    "##### Try different sizes of data sets. "
   ]
  },
  {
   "cell_type": "code",
   "execution_count": 91,
   "metadata": {},
   "outputs": [
    {
     "name": "stdout",
     "output_type": "stream",
     "text": [
      "m: 1000 error: 1.0134299507699404e-07 Error < 0.05? True\n",
      "m: 3000 error: 1.1044371014841167e-07 Error < 0.05? True\n",
      "m: 6000 error: 5.32094459738086e-08 Error < 0.05? True\n",
      "m: 8000 error: 2.31939202341918e-08 Error < 0.05? True\n"
     ]
    }
   ],
   "source": [
    "K = 20\n",
    "p = 10\n",
    "all_m = [1000, 3000, 6000, 8000]\n",
    "\n",
    "mean = np.zeros(p)\n",
    "cov = np.identity(p)\n",
    "for m in all_m:\n",
    "    x = np.array(np.random.multivariate_normal(mean,cov,m))\n",
    "    x = x.reshape(x.shape[0], x.shape[1], 1)\n",
    "    L_star = create_L_star(p,r)\n",
    "    y = np.array(create_y(x, L_star))\n",
    "    y = y.reshape(y.shape[0], 1, 1)\n",
    "    y = y.reshape(y.shape[0], 1)\n",
    "    L_hat = solveConvexProblem(offset, x, y, p)\n",
    "    L_hat_norm = la.norm(L_hat, ord = 2)\n",
    "    L_star_norm = la.norm(L_star, ord = 2)\n",
    "    rel_err = np.abs((L_star_norm - L_hat_norm)/L_star_norm)\n",
    "    print('m:', m, 'error:', rel_err, 'Error < 0.05?', rel_err < 0.05)"
   ]
  },
  {
   "cell_type": "markdown",
   "metadata": {},
   "source": [
    "##### How accurate is the convex relaxation for this problem? How sensitive is it to the size of data set and noise?"
   ]
  },
  {
   "cell_type": "code",
   "execution_count": 93,
   "metadata": {},
   "outputs": [
    {
     "name": "stdout",
     "output_type": "stream",
     "text": [
      "m: 1000 noise level: 0.0001 err: 1.0549253875046242e-05 Successful recovery? True\n",
      "m: 1000 noise level: 0.1 err: 0.008824625676521447 Successful recovery? True\n",
      "m: 1000 noise level: 1 err: 0.6997157421784946 Successful recovery? False\n",
      "m: 1000 noise level: 10 err: 0.9961500755783373 Successful recovery? False\n",
      "m: 1000 noise level: 100 err: 0.9999621374087171 Successful recovery? False\n",
      "m: 8000 noise level: 0.0001 err: 3.43276404015375e-06 Successful recovery? True\n",
      "m: 8000 noise level: 0.1 err: 0.02050920786604547 Successful recovery? True\n",
      "m: 8000 noise level: 1 err: 0.6957260118396038 Successful recovery? False\n",
      "m: 8000 noise level: 10 err: 0.9975999837325976 Successful recovery? False\n",
      "m: 8000 noise level: 100 err: 0.9999762167724802 Successful recovery? False\n"
     ]
    }
   ],
   "source": [
    "all_m = [1000, 8000]\n",
    "p = 10\n",
    "r = 5\n",
    "var = 1\n",
    "noise_levels = [0.0001, 0.1, 1, 10, 100]\n",
    "mean = np.zeros(p)\n",
    "cov = np.identity(p)\n",
    "\n",
    "for m in all_m:\n",
    "    x = np.array(np.random.multivariate_normal(mean,cov,m))\n",
    "    x = x.reshape(x.shape[0], x.shape[1], 1)\n",
    "    L_star = create_L_star(p,r)\n",
    "    test_symmetry(L_star)\n",
    "    y = create_y(x, L_star)\n",
    "    y = y.reshape(y.shape[0], 1, 1)\n",
    "    y = y.reshape(y.shape[0], 1)\n",
    "    for noise_level in noise_levels:\n",
    "        noise = np.random.normal(0, noise_level,(m, p))\n",
    "        noise = noise.reshape(noise.shape[0], noise.shape[1], 1)\n",
    "        x_noise = x + noise\n",
    "        L_hat = solveConvexProblem(offset, x_noise, y, p) \n",
    "        L_hat_norm = la.norm(L_hat, ord = 2)\n",
    "        L_star_norm = la.norm(L_star, ord = 2)\n",
    "        rel_err = relative_error(L_star_norm, L_hat_norm)\n",
    "        print('m:', m, 'noise level:', noise_level, 'err:', rel_err, 'Successful recovery?', rel_err < 0.05)"
   ]
  },
  {
   "cell_type": "markdown",
   "metadata": {},
   "source": [
    "We can see that the algorithm is also able to reconstruct the weights, even with fewer data samples. The error for the convex solution is for a dataset with 1000 samples in the 10^-8 range. We can also see that the convex solution is also able to reconstruct $L_*$ for $x$ initialized with normally distributed datasamples with a different mean than zero and a covariance different than the identity. I also note that training the convex solution takes significantly longer than training the iterative solution. I had to run the parameter comparison above for 3 hours and the iterative solution above only took a couple of minutes, even though above I used monte carlo trials, which I did not use for the convex approach.\n",
    "\n",
    "The size of the dataset does not seem to matter a lot. The error does not necessarily decrease with the bigger data sets, but it is low enough from the beginning to successfully recover the ground truth matrix $L_*$. \n",
    "\n",
    "In comparison to the non convex solution, the convex approach seems to be not very sensitive to different parameters $p$, data sizes $m$ and initialization variances for the ground truth weights in $L_*$. It also seems to not be sensitive towards the initial distribution of the training data, so initialisation mean and covariance can differ and the convex solution is still able to sufficiently reconstruct the ground truth weight matrix $L_*$.\n",
    "\n",
    "The convex relaxation is similarly sensitive to noise as the iterative algorithm, so it can successfully reconstruct noise levels lower than 1. It seems to not be very sensitive if the training dataset is small. We can however see that the error doesn't explode like for the iterative approach.\n",
    "\n",
    "All in all I would say that the convex approach is sufficiently accurate, even though its accuracy is lower than for the iterative non convex approach. The advantage of the convex approach is the robustness towards training data distribution and no need for many fresh data samples for training, however even with small dataset training takes quite a while.The disadvantage is the long training time. "
   ]
  },
  {
   "cell_type": "markdown",
   "metadata": {},
   "source": [
    "##### Generate a new data set where each xi can come from two different Gaussian distributions (representing two classes) with two different means (you can keep the covariance same if you wish). Assign each data point  a  binary  label  based  on  its  class.  (Note  that  there  is  no  ground  truth  network  in  this  case).  "
   ]
  },
  {
   "cell_type": "code",
   "execution_count": 31,
   "metadata": {},
   "outputs": [],
   "source": [
    "m = 3000\n",
    "p = 10\n",
    "r = 5\n",
    "K = 20\n",
    "\n",
    "mean = np.zeros(p)\n",
    "cov = np.identity(p)\n",
    "x1 = np.array(np.random.multivariate_normal(mean,cov,int(K*m/2)))\n",
    "\n",
    "mean = np.ones(p)\n",
    "cov = np.identity(p)\n",
    "x2 = np.array(np.random.multivariate_normal(mean,cov,int(K*m/2)))\n",
    "\n",
    "y1 = np.zeros(int(K*m/2))\n",
    "y2 = np.ones(int(K*m/2))\n",
    "x_train = np.concatenate((x1, x2), axis=0)\n",
    "x_train = x_train.reshape(x_train.shape[0], x_train.shape[1], 1)\n",
    "\n",
    "y_train = np.concatenate((y1, y2), axis=0)\n",
    "y_train = y_train.reshape(y_train.shape[0], 1, 1)"
   ]
  },
  {
   "cell_type": "markdown",
   "metadata": {},
   "source": [
    "##### Run the two algorithms that you have implemented in the last two parts (non-convex and convex) to train the polynomial neural network (which is also equivalent to learning a matrix L). "
   ]
  },
  {
   "cell_type": "code",
   "execution_count": 32,
   "metadata": {},
   "outputs": [],
   "source": [
    "L_hat_non_convex = EP_ROM(y_train, K, x_train, r, p)  "
   ]
  },
  {
   "cell_type": "code",
   "execution_count": 33,
   "metadata": {},
   "outputs": [],
   "source": [
    "offset = 1\n",
    "y_train = y_train.reshape(y_train.shape[0], 1)\n",
    "L_hat_convex = solveConvexProblem(offset, x_train, y_train, p)"
   ]
  },
  {
   "cell_type": "markdown",
   "metadata": {},
   "source": [
    "##### Generate some new test data points  from  your  classes  and  evaluate  the  performance  of  the  learned  network  on  the  test  dataset.  Are these algorithms able to classify the data? If not, why? Try to justify."
   ]
  },
  {
   "cell_type": "code",
   "execution_count": 35,
   "metadata": {},
   "outputs": [
    {
     "name": "stdout",
     "output_type": "stream",
     "text": [
      "RMSE convex problem: 0.1205901696980856 RMSE non convex problem: 1.4027387732468592e+40\n",
      "RMSE match to closest label convex problem : 0.140375 non convex problem: 0.498875\n"
     ]
    }
   ],
   "source": [
    "m = 400\n",
    "mean = np.zeros(p)\n",
    "cov = np.identity(p)\n",
    "x1 = np.array(np.random.multivariate_normal(mean,cov,int(K*m/2)))\n",
    "\n",
    "mean = np.ones(p)\n",
    "cov = np.identity(p)\n",
    "x2 = np.array(np.random.multivariate_normal(mean,cov,int(K*m/2)))\n",
    "\n",
    "y1 = np.zeros(int(K*m/2))\n",
    "y2 = np.ones(int(K*m/2))\n",
    "\n",
    "x_test = np.concatenate((x1, x2), axis=0)\n",
    "y_test = np.concatenate((y1, y2), axis=0)\n",
    "y_test = y_test.reshape(y_test.shape[0], 1)\n",
    "\n",
    "y_pred_convex = A(L_hat_convex,x_test)\n",
    "y_pred_non_convex = A(L_hat_non_convex,x_test)\n",
    "\n",
    "y_pred_convex_to_closest_label = np.array(list(map(lambda x: 0 if abs(1-x) > abs(0-x) else 1, y_pred_convex)))\n",
    "y_pred_non_convex_to_closest_label = np.array(list(map(lambda x: 0 if abs(1-x) > abs(0-x) else 1, y_pred_non_convex)))\n",
    "\n",
    "rmse_convex = mean_squared_error(y_test, y_pred_convex)\n",
    "rmse_non_convex = mean_squared_error(y_test, y_pred_non_convex)\n",
    "print('RMSE convex problem:', rmse_convex, 'RMSE non convex problem:', rmse_non_convex)\n",
    "\n",
    "rmse_convex_to_closest_label = mean_squared_error(y_test, y_pred_convex_to_closest_label)\n",
    "rmse_non_convex_to_closest_label = mean_squared_error(y_test, y_pred_non_convex_to_closest_label)\n",
    "print('RMSE match to closest label convex problem :', rmse_convex_to_closest_label, 'non convex problem:', rmse_non_convex_to_closest_label)\n"
   ]
  },
  {
   "cell_type": "markdown",
   "metadata": {},
   "source": [
    "We can see that the convex solution performs reasonably well with a RMSE of 0.12 for classifying the data from the two classes. This makes sense because the convex solution does not make any assumptions on the data generation of $y$ and is thus able to generalise better. However, the non-convex iterative solution does not scale at all. This makes sense because our data does not comply with the assumptions made by the authors in [1]. The labels in $y$ are not generated by $x^TL_*x$ but rather randomly assigned as 0 and 1. This breaks the performance of the algorithm.\n",
    "\n",
    "If I however match the predictions to the closest possible label, the prediction error of the non convex problem decreases to 0.5."
   ]
  },
  {
   "cell_type": "markdown",
   "metadata": {},
   "source": [
    "#### BONUS\n",
    "##### If  you  were  able  to  solve  a  binary  classification  problem  on  the  random  data  set  in  previous question, try to apply your algorithm on the MNIST dataset (You can restrict your dataset to only 0 and 1 digits). Is there any way to extend this idea for multi-class classification? How?"
   ]
  },
  {
   "cell_type": "code",
   "execution_count": 36,
   "metadata": {},
   "outputs": [],
   "source": [
    "(X_train, Y_train), (X_test, Y_test) = mnist.load_data()    "
   ]
  },
  {
   "cell_type": "code",
   "execution_count": 37,
   "metadata": {},
   "outputs": [
    {
     "name": "stdout",
     "output_type": "stream",
     "text": [
      "(60000, 784, 1) (60000, 1, 1)\n",
      "(60000, 30)\n"
     ]
    }
   ],
   "source": [
    "flattened_dim = X_train.shape[2]*X_train.shape[2]\n",
    "pca = PCA(n_components=30)\n",
    "X_train_cvx = X_train.reshape(X_train.shape[0], flattened_dim)\n",
    "X_train_convex = pca.fit_transform(X_train_cvx)\n",
    "\n",
    "X_test_cvx = X_test.reshape(X_test.shape[0], flattened_dim)\n",
    "X_test_convex = pca.fit_transform(X_test_cvx)\n",
    "\n",
    "flattened_dim = X_train.shape[1]*X_train.shape[2]\n",
    "X_train = X_train.reshape(X_train.shape[0], flattened_dim, 1)\n",
    "X_train = X_train == 0\n",
    "Y_train = Y_train.reshape(Y_train.shape[0],1, 1)\n",
    "\n",
    "X_test = X_test.reshape(X_test.shape[0], flattened_dim)\n",
    "print(X_train.shape, Y_train.shape)\n",
    "print(X_train_convex.shape)"
   ]
  },
  {
   "cell_type": "code",
   "execution_count": 38,
   "metadata": {},
   "outputs": [],
   "source": [
    "K = 20\n",
    "r = 5\n",
    "L_hat_non_convex = EP_ROM(Y_train, K, X_train, r, flattened_dim) "
   ]
  },
  {
   "cell_type": "code",
   "execution_count": 39,
   "metadata": {},
   "outputs": [
    {
     "name": "stdout",
     "output_type": "stream",
     "text": [
      "RMSE non convex problem: 2.3332431552150854e+225\n"
     ]
    }
   ],
   "source": [
    "y_pred_non_convex = A(L_hat_non_convex,X_test)\n",
    "rmse_non_convex = mean_squared_error(Y_test, y_pred_non_convex)\n",
    "print('RMSE non convex problem:', rmse_non_convex)"
   ]
  },
  {
   "cell_type": "code",
   "execution_count": 40,
   "metadata": {},
   "outputs": [],
   "source": [
    "offset = 1\n",
    "X_train_convex = X_train_convex.reshape(X_train_convex.shape[0], X_train_convex.shape[1], 1)\n",
    "Y_train = Y_train.reshape(Y_train.shape[0],1)\n",
    "L_hat_convex = solveConvexProblem(offset, X_train_convex, Y_train, X_train_convex.shape[1])"
   ]
  },
  {
   "cell_type": "code",
   "execution_count": 41,
   "metadata": {},
   "outputs": [
    {
     "name": "stdout",
     "output_type": "stream",
     "text": [
      "RMSE convex problem: 13.605751483166323\n"
     ]
    }
   ],
   "source": [
    "y_pred_convex = A(L_hat_convex,X_test_convex)\n",
    "rmse_convex = mean_squared_error(Y_test, y_pred_convex)\n",
    "print('RMSE convex problem:', rmse_convex)"
   ]
  },
  {
   "cell_type": "code",
   "execution_count": 43,
   "metadata": {},
   "outputs": [
    {
     "name": "stdout",
     "output_type": "stream",
     "text": [
      "RMSE match to closest label convex problem : 20.4131\n"
     ]
    }
   ],
   "source": [
    "y_pred_convex_to_closest_label = np.array(list(map(lambda x: 0 if abs(1-x) > abs(0-x) else 1, y_pred_convex)))\n",
    "rmse_convex_to_closest_label = mean_squared_error(Y_test, y_pred_convex_to_closest_label)\n",
    "print('RMSE match to closest label convex problem :', rmse_convex_to_closest_label)"
   ]
  },
  {
   "cell_type": "code",
   "execution_count": 44,
   "metadata": {},
   "outputs": [
    {
     "name": "stdout",
     "output_type": "stream",
     "text": [
      "RMSE match to closest label non convex problem: 20.2422\n"
     ]
    }
   ],
   "source": [
    "y_pred_non_convex_to_closest_label = np.array(list(map(lambda x: 0 if abs(1-x) > abs(0-x) else 1, y_pred_non_convex)))\n",
    "rmse_non_convex_to_closest_label = mean_squared_error(Y_test, y_pred_non_convex_to_closest_label)\n",
    "print('RMSE match to closest label non convex problem:', rmse_non_convex_to_closest_label)"
   ]
  },
  {
   "cell_type": "markdown",
   "metadata": {},
   "source": [
    "As expected, the iterative non-convex algorithm was not able to classify the test data correctly, since the training data does not underly the expected structure and thus no accurate approximation of $L_*$ could be learned. \n",
    "For the convex approach, the high dimensionality of the data of 28*28 forced me to decrease the training dimension using Principal Component Analysis to be able to run the solution. Previous results indicated that the convex approach could be run with dimension 30 without the kernel dying. I am sure with higher computational power, and training the on the whole training dataset will increase robustness of the classification of the convex approach.\n",
    "As expected with such a high dimensionality reduction, the results are not very good. The RMSE is around 13.6 and if I assign the prediction to the closest label it is even hight at 20.41.\n",
    "\n",
    "I think this idea could be extended to multi class classification. One way is to use multiple binary classifiers. Otherwise I think we could also do a regression and then classify the results to the nearest class label."
   ]
  },
  {
   "cell_type": "markdown",
   "metadata": {},
   "source": [
    "##### Discussion: This section will provide a critical discussion of your results, and evaluate the strengths and weaknesses of different algorithms and the associated trade-offs"
   ]
  },
  {
   "cell_type": "markdown",
   "metadata": {},
   "source": [
    "To summarize the findings I commented within the code, there are many advantages as well as limitations with the convex and non convex methods evaluated in this project. First of all, the authors of [1] did an amazing job using a low rank estimation problem for a highly relevant field of provable learning. Their algorithm is understandable when doing some background research on low rank matrix estimation. Their algorithm is very fast, but requires a comparatively big dataset to start with. In this project, 20 batches of 3000 samples lead to good results. The algorithm is based on a specific structure of input data and relation of input data to the labels which the neural network needs to learn. This limits the applicability of the algorithm to real world data. It is dependent on the initialization of the data to be zero mean and identity covariance. Zero mean can be normalized to, but we almost never have identity covariance for the features (or dimensions) of the training data. Also, many problems do not have a clear data to label relationship ($x^TL_*x$). Thus, this algorithm is great for showing that provable learning is possible, but is highly limited to real world with very specific underlying data structures. If those data structures are met, the non convex iterative algorithm produces highly accurate reconstructions of the ground truth matrix and very fast computational efficiency for training.\n",
    "\n",
    "On the other hand, the convex relaxation of this project turned out to be sufficiently accurate to reconstruct the ground truth matrix $L_*$, even with few data samples to begin with. However, solving the convex problem was not computationally efficient, especially for numerous training samples or high dimensions. However, the convex approach was able to handle data samples which came from a normal distribution with random mean and covariance and can thus be used for a broader set of problems. It also did a better job learning the binary problem and did not suffer from error explosion for different initializations and data dimensions. \n"
   ]
  },
  {
   "cell_type": "markdown",
   "metadata": {},
   "source": [
    "#### References:\n",
    "1)  Soltani, Mohammadreza, and Chinmay Hegde. “Towards provable learning of polynomial neural networksusing low-rank matrix estimation”.International Conference on Artificial Intelligence and Statistics. 2018.\n",
    "\n",
    "2)  Candès,  Emmanuel  J.,  and  Yaniv  Plan.  “Tight  oracle  inequalities  for  low-rank  matrix  recovery  from  aminimal  number  of  noisy  random  measurements.”IEEE  Transactions  on  Information  Theory57.4  (2011):2342-2359.\n",
    "\n",
    "3)  Recht, B., Fazel, M. and Parrilo, P.A., 2010. “Guaranteed minimum-rank solutions of linear matrix equationsvia nuclear norm minimization”.SIAM review, 52(3), pp.471-501.\n",
    "\n",
    "4)  Goldstein, Tom, Christoph Studer, and Richard Baraniuk. “FASTA: A generalized implementation of forward-backward splitting.”arXiv preprint arXiv:1501.04979 (2015).\n",
    "\n",
    "5) E. J. Candès, X. Li, Y. Ma, and J. Wright, Robust Principal\n",
    "Component Analysis? Stanford Univ., Stanford, CA, 2009 [Online]. Available: http://statistics.stanford.edu/~ckirby/techreports/\n",
    "GEN/2009/2009-13.pd\n",
    "\n",
    "6)  D. Gross, Y. Liu, S. Flammia, S. Becker, and J. Eisert, Quantum State\n",
    "Tomography via Compressed Sensing, 2009 [Online]. Available: http://\n",
    "arxiv.org/PS_cache/arxiv/pdf/0909/ 0909.3304v2.pdf\n",
    "\n",
    "7) R. Basri and D. Jacobs, “Lambertian reflectance and linear subspaces,”\n",
    "IEEE Trans. Pattern Anal.Mach. Intell., vol. 25, no. 2, pp. 218–233, Feb.\n",
    "2003\n",
    "\n",
    "8) MNIST Dataset. Shown in Y. LeCun, L. Bottou, Y. Bengio, and P. Haffner. \"Gradient-based learning applied to document recognition.\" Proceedings of the IEEE, 86(11):2278-2324, November 1998. Download at: http://yann.lecun.com/exdb/mnist/\n",
    "\n",
    "9) Fazel, M. Matrix rank minimization with applications. PhD thesis, PhD thesis, Stanford University, 2002.\n",
    "\n",
    "10) Candès, E. and Recht, B. Exact matrix completion via convex optimization. Found. Comput. Math., 9(6), 2009.\n",
    "\n",
    "11) L. El Ghaoui and P. Gahinet, Rank minimization under LMI constraints: A framework for output feedback problems, in Proceedings of the 2nd European Control Conference, 1993, pp. 1176–1179.\n",
    "\n",
    "12) M. Fazel, H. Hindi, and S. Boyd, A rank minimization heuristic with application to minimum order system approximation, in Proceedings of the American Control Conference, IEEE, 2001, pp. 4734–4739"
   ]
  },
  {
   "cell_type": "markdown",
   "metadata": {},
   "source": [
    "#### BONUS\n",
    "\n",
    "##### Authors in [1] have compared their algorithms with a convex solver proposed in [4] (FASTA). Read this paper and implement this algorithm. Apply FASTA on your generated data set and compare the results with previous parts."
   ]
  },
  {
   "cell_type": "code",
   "execution_count": 48,
   "metadata": {},
   "outputs": [],
   "source": [
    "m = 3000\n",
    "p = 10\n",
    "r = 5\n",
    "K = 20\n",
    "\n",
    "mean = np.zeros(p)\n",
    "cov = np.identity(p)\n",
    "x1 = np.array(np.random.multivariate_normal(mean,cov,int(K*m/2)))\n",
    "\n",
    "mean = np.ones(p)\n",
    "cov = np.identity(p)\n",
    "x2 = np.array(np.random.multivariate_normal(mean,cov,int(K*m/2)))\n",
    "\n",
    "y1 = np.zeros(int(K*m/2))\n",
    "y2 = np.ones(int(K*m/2))\n",
    "x_train = np.concatenate((x1, x2), axis=0)\n",
    "x_train = x_train.reshape(x_train.shape[0], x_train.shape[1], 1)\n",
    "\n",
    "y_train = np.concatenate((y1, y2), axis=0)\n",
    "y_train = y_train.reshape(y_train.shape[0], 1, 1)\n",
    "m = 400\n",
    "mean = np.zeros(p)\n",
    "cov = np.identity(p)\n",
    "x1 = np.array(np.random.multivariate_normal(mean,cov,int(K*m/2)))\n",
    "\n",
    "mean = np.ones(p)\n",
    "cov = np.identity(p)\n",
    "x2 = np.array(np.random.multivariate_normal(mean,cov,int(K*m/2)))\n",
    "\n",
    "y1 = np.zeros(int(K*m/2))\n",
    "y2 = np.ones(int(K*m/2))\n",
    "\n",
    "x_test = np.concatenate((x1, x2), axis=0)\n",
    "y_test = np.concatenate((y1, y2), axis=0)\n",
    "y_test = y_test.reshape(y_test.shape[0], 1)\n",
    "def A_cvx_err_fasta(L,x, y):\n",
    "    x = x.reshape(x.shape[0], x.shape[1], 1)\n",
    "    x = np.array(x)\n",
    "    A_Lt = []\n",
    "    assert(L.shape == (x.shape[1], x.shape[1]) and L[0,0].shape == ())\n",
    "    A_Lt = list(map(lambda x_i: cp.quad_form(x_i, L), x))\n",
    "    A_Lt =  A_Lt.reshape(A_Lt.shape[0], 1)\n",
    "    A_Lt = np.array(A_Lt)\n",
    "    error = y - A_Lt\n",
    "    error = error.reshape(error.shape[0], )\n",
    "    adjoint_value = np.zeros((x.shape[1], x.shape[1]))\n",
    "    for i in range(0, x.shape[0]):\n",
    "        x_i = x[i]\n",
    "        e_i = e[i]\n",
    "        x_i = np.array(x_i)\n",
    "        x_i = x_i.reshape(x_i.shape[0], 1)\n",
    "        xxt = np.dot(x_i, x_i.T)\n",
    "        exxt = cp.multiply(e_i, xxt)\n",
    "        adjoint_value = np.sum([adjoint_value, exxt], axis=0)\n",
    "    a_st_x_e = adjoint_value\n",
    "    return a_st_x_e\n",
    "\n",
    "L = np.zeros((p,p))\n",
    "f = lambda L: la.norm(L, 'nuc') # objective\n",
    "g = lambda x: 0\n",
    "gradf = lambda x: 1\n",
    "prox = lambda L, x, y: la.norm(A_cvx_err_fasta(L,x, y), 2) <= lmbd(np.sqrt(var))\n",
    "A = 1\n",
    "At = 1\n",
    "\n",
    "L = np.zeros((p,p))\n",
    "f = lambda L: la.norm(L, 'nuc') # objective\n",
    "g = lambda x: 0\n",
    "gradf = lambda x: 1\n",
    "prox = lambda L, x, y: la.norm(A_cvx_err_fasta(L,x, y), 2) <= lmbd(np.sqrt(var))\n",
    "A = 1\n",
    "At = 1\n",
    "eng = matlab.engine.start_matlab()\n",
    "eng.fasta(A, At, f, gradf, g, prox, L )\n",
    "eng.quit()"
   ]
  }
 ],
 "metadata": {
  "kernelspec": {
   "display_name": "Python 3",
   "language": "python",
   "name": "python3"
  },
  "language_info": {
   "codemirror_mode": {
    "name": "ipython",
    "version": 3
   },
   "file_extension": ".py",
   "mimetype": "text/x-python",
   "name": "python",
   "nbconvert_exporter": "python",
   "pygments_lexer": "ipython3",
   "version": "3.7.4"
  }
 },
 "nbformat": 4,
 "nbformat_minor": 2
}
